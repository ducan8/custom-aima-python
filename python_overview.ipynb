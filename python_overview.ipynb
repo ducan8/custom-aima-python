{
 "cells": [
  {
   "cell_type": "code",
   "execution_count": 42,
   "id": "f73d3042",
   "metadata": {},
   "outputs": [
    {
     "data": {
      "text/plain": [
       "'\\n- Interpreter program language.\\n- Interactive programming: Notebook, Python terminal,...\\n- OOP.\\n- Pycharm, VScode*, Notebook.\\n'"
      ]
     },
     "execution_count": 42,
     "metadata": {},
     "output_type": "execute_result"
    }
   ],
   "source": [
    "\"\"\"\n",
    "- Interpreter program language.\n",
    "- Interactive programming: Notebook, Python terminal,...\n",
    "- OOP.\n",
    "- Pycharm, VScode*, Notebook.\n",
    "- leetcode.com\n",
    "\"\"\""
   ]
  },
  {
   "cell_type": "markdown",
   "id": "13307bb9",
   "metadata": {},
   "source": [
    "# Hello, World!"
   ]
  },
  {
   "cell_type": "code",
   "execution_count": 1,
   "id": "a4b21702",
   "metadata": {},
   "outputs": [
    {
     "name": "stdout",
     "output_type": "stream",
     "text": [
      "Hello, World!\n"
     ]
    }
   ],
   "source": [
    "print(\"Hello, World!\")"
   ]
  },
  {
   "cell_type": "code",
   "execution_count": 2,
   "id": "449a746d",
   "metadata": {},
   "outputs": [
    {
     "ename": "IndentationError",
     "evalue": "unexpected indent (4191884385.py, line 2)",
     "output_type": "error",
     "traceback": [
      "\u001b[1;36m  File \u001b[1;32m\"C:\\Users\\User\\AppData\\Local\\Temp\\ipykernel_1748\\4191884385.py\"\u001b[1;36m, line \u001b[1;32m2\u001b[0m\n\u001b[1;33m    print(\"Hi, World!\")\u001b[0m\n\u001b[1;37m    ^\u001b[0m\n\u001b[1;31mIndentationError\u001b[0m\u001b[1;31m:\u001b[0m unexpected indent\n"
     ]
    }
   ],
   "source": [
    "print(\"Hello, World!\")\n",
    "    print(\"Hi, World!\")"
   ]
  },
  {
   "cell_type": "markdown",
   "id": "e55c93fa",
   "metadata": {},
   "source": [
    "# Variables and Types\n",
    "- Primitive data types and user defined data types."
   ]
  },
  {
   "cell_type": "code",
   "execution_count": 3,
   "id": "ded42016",
   "metadata": {},
   "outputs": [
    {
     "name": "stdout",
     "output_type": "stream",
     "text": [
      "<class 'int'>\n",
      "<class 'float'>\n",
      "<class 'str'>\n"
     ]
    }
   ],
   "source": [
    "a=24\n",
    "b=7.0\n",
    "c=\"Hello, World!\"\n",
    "\n",
    "print(type(a))\n",
    "print(type(b))\n",
    "print(type(c))"
   ]
  },
  {
   "cell_type": "markdown",
   "id": "28125b67",
   "metadata": {},
   "source": [
    "# Lists"
   ]
  },
  {
   "cell_type": "code",
   "execution_count": 4,
   "id": "61a357e2",
   "metadata": {},
   "outputs": [
    {
     "name": "stdout",
     "output_type": "stream",
     "text": [
      "<class 'list'>\n"
     ]
    }
   ],
   "source": [
    "a=[24,7.0,\"Hello, World!\"]\n",
    "print(type(a))"
   ]
  },
  {
   "cell_type": "code",
   "execution_count": 5,
   "id": "d76b82cf",
   "metadata": {},
   "outputs": [
    {
     "data": {
      "text/plain": [
       "99"
      ]
     },
     "execution_count": 5,
     "metadata": {},
     "output_type": "execute_result"
    }
   ],
   "source": [
    "b=[24,7,99]\n",
    "max(b)"
   ]
  },
  {
   "cell_type": "code",
   "execution_count": 14,
   "id": "aef3f0e2",
   "metadata": {},
   "outputs": [
    {
     "data": {
      "text/plain": [
       "7"
      ]
     },
     "execution_count": 14,
     "metadata": {},
     "output_type": "execute_result"
    }
   ],
   "source": [
    "min(b)"
   ]
  },
  {
   "cell_type": "code",
   "execution_count": 15,
   "id": "7acbe7fb",
   "metadata": {},
   "outputs": [
    {
     "name": "stdout",
     "output_type": "stream",
     "text": [
      "[24, 7, 99, 'Hello, World!']\n"
     ]
    }
   ],
   "source": [
    "b.append(\"Hello, World!\")\n",
    "print(b)"
   ]
  },
  {
   "cell_type": "code",
   "execution_count": 17,
   "id": "a91f64cb",
   "metadata": {},
   "outputs": [
    {
     "data": {
      "text/plain": [
       "[24, 7, 99, 'Hello, World!', 24, 7, 99, 'Hello, World!']"
      ]
     },
     "execution_count": 17,
     "metadata": {},
     "output_type": "execute_result"
    }
   ],
   "source": [
    "b+b"
   ]
  },
  {
   "cell_type": "code",
   "execution_count": 19,
   "id": "a5bfeef9",
   "metadata": {},
   "outputs": [],
   "source": [
    "import numpy as np"
   ]
  },
  {
   "cell_type": "code",
   "execution_count": 24,
   "id": "9165bdfe",
   "metadata": {},
   "outputs": [
    {
     "name": "stdout",
     "output_type": "stream",
     "text": [
      "[24  7 99]\n"
     ]
    }
   ],
   "source": [
    "c=[24,7,99]\n",
    "np_list=np.array(c)\n",
    "print(np_list)"
   ]
  },
  {
   "cell_type": "code",
   "execution_count": 25,
   "id": "be022670",
   "metadata": {},
   "outputs": [
    {
     "data": {
      "text/plain": [
       "numpy.ndarray"
      ]
     },
     "execution_count": 25,
     "metadata": {},
     "output_type": "execute_result"
    }
   ],
   "source": [
    "type(np_list)"
   ]
  },
  {
   "cell_type": "markdown",
   "id": "6463d9c2",
   "metadata": {},
   "source": [
    "# Basic Operators\n",
    "- Primitives.\n",
    "- User-defined."
   ]
  },
  {
   "cell_type": "code",
   "execution_count": 27,
   "id": "3d08f1ba",
   "metadata": {},
   "outputs": [
    {
     "data": {
      "text/plain": [
       "267"
      ]
     },
     "execution_count": 27,
     "metadata": {},
     "output_type": "execute_result"
    }
   ],
   "source": [
    "24*7+99"
   ]
  },
  {
   "cell_type": "code",
   "execution_count": 28,
   "id": "426fcb24",
   "metadata": {},
   "outputs": [
    {
     "data": {
      "text/plain": [
       "3"
      ]
     },
     "execution_count": 28,
     "metadata": {},
     "output_type": "execute_result"
    }
   ],
   "source": [
    "24%7"
   ]
  },
  {
   "cell_type": "code",
   "execution_count": 30,
   "id": "c56ed776",
   "metadata": {},
   "outputs": [
    {
     "data": {
      "text/plain": [
       "8"
      ]
     },
     "execution_count": 30,
     "metadata": {},
     "output_type": "execute_result"
    }
   ],
   "source": [
    "2**3"
   ]
  },
  {
   "cell_type": "markdown",
   "id": "d8706457",
   "metadata": {},
   "source": [
    "# String Formatting"
   ]
  },
  {
   "cell_type": "code",
   "execution_count": 7,
   "id": "231e6ead",
   "metadata": {},
   "outputs": [],
   "source": [
    "s=\"Hello, \"\n",
    "a=\"World!\""
   ]
  },
  {
   "cell_type": "code",
   "execution_count": 8,
   "id": "18ec6794",
   "metadata": {},
   "outputs": [
    {
     "data": {
      "text/plain": [
       "'Hello, World!'"
      ]
     },
     "execution_count": 8,
     "metadata": {},
     "output_type": "execute_result"
    }
   ],
   "source": [
    "s+a"
   ]
  },
  {
   "cell_type": "code",
   "execution_count": 9,
   "id": "2fb01f90",
   "metadata": {},
   "outputs": [
    {
     "data": {
      "text/plain": [
       "'Hello, World!'"
      ]
     },
     "execution_count": 9,
     "metadata": {},
     "output_type": "execute_result"
    }
   ],
   "source": [
    "f\"{s}{a}\""
   ]
  },
  {
   "cell_type": "markdown",
   "id": "e33fe4e7",
   "metadata": {},
   "source": [
    "# Conditions"
   ]
  },
  {
   "cell_type": "code",
   "execution_count": 38,
   "id": "4cabb637",
   "metadata": {},
   "outputs": [
    {
     "name": "stdout",
     "output_type": "stream",
     "text": [
      "a is True\n"
     ]
    }
   ],
   "source": [
    "a = True\n",
    "\n",
    "if a:\n",
    "    print(\"a is True\")\n",
    "else:\n",
    "    print(\"a is False\")"
   ]
  },
  {
   "cell_type": "code",
   "execution_count": 39,
   "id": "de820695",
   "metadata": {},
   "outputs": [
    {
     "name": "stdout",
     "output_type": "stream",
     "text": [
      "b is False\n"
     ]
    }
   ],
   "source": [
    "b = False\n",
    "if not b: \n",
    "    print(\"b is False\")\n",
    "else:\n",
    "    print(\"b is True\")"
   ]
  },
  {
   "cell_type": "markdown",
   "id": "3ebbe267",
   "metadata": {},
   "source": [
    "# Loops:"
   ]
  },
  {
   "cell_type": "code",
   "execution_count": 40,
   "id": "44e883b5",
   "metadata": {},
   "outputs": [
    {
     "name": "stdout",
     "output_type": "stream",
     "text": [
      "0\n",
      "1\n",
      "2\n",
      "3\n",
      "4\n",
      "5\n",
      "6\n"
     ]
    }
   ],
   "source": [
    "for i in range(7):\n",
    "    print(i)"
   ]
  },
  {
   "cell_type": "code",
   "execution_count": 10,
   "id": "30f2d107",
   "metadata": {},
   "outputs": [
    {
     "name": "stdout",
     "output_type": "stream",
     "text": [
      "Hello, World!\n"
     ]
    }
   ],
   "source": [
    "def say_hi(name):\n",
    "    print(f\"Hello, {name}\")\n",
    "    \n",
    "say_hi(\"World!\")"
   ]
  },
  {
   "cell_type": "code",
   "execution_count": 43,
   "id": "f4519a3c",
   "metadata": {},
   "outputs": [],
   "source": [
    "# Classes, Dictionaries, Modules, Packages,..."
   ]
  }
 ],
 "metadata": {
  "kernelspec": {
   "display_name": "Python 3 (ipykernel)",
   "language": "python",
   "name": "python3"
  },
  "language_info": {
   "codemirror_mode": {
    "name": "ipython",
    "version": 3
   },
   "file_extension": ".py",
   "mimetype": "text/x-python",
   "name": "python",
   "nbconvert_exporter": "python",
   "pygments_lexer": "ipython3",
   "version": "3.7.12"
  }
 },
 "nbformat": 4,
 "nbformat_minor": 5
}
